{
  "cells": [
    {
      "cell_type": "code",
      "execution_count": null,
      "metadata": {
        "id": "HIdYEXS-liCv"
      },
      "outputs": [],
      "source": [
        "# Fix randomness and hide warnings\n",
        "seed = 42\n",
        "\n",
        "import os\n",
        "import sys\n",
        "os.environ['TF_CPP_MIN_LOG_LEVEL'] = '3'\n",
        "os.environ['PYTHONHASHSEED'] = str(seed)\n",
        "os.environ['MPLCONFIGDIR'] = os.getcwd()+'/configs/'\n",
        "\n",
        "import warnings\n",
        "warnings.simplefilter(action='ignore', category=FutureWarning)\n",
        "warnings.simplefilter(action='ignore', category=Warning)\n",
        "\n",
        "import numpy as np\n",
        "np.random.seed(seed)\n",
        "\n",
        "import logging\n",
        "\n",
        "import random\n",
        "random.seed(seed)"
      ]
    },
    {
      "cell_type": "code",
      "execution_count": null,
      "metadata": {
        "colab": {
          "base_uri": "https://localhost:8080/"
        },
        "id": "K_shR5tyliCw",
        "outputId": "ea07f735-c46e-402b-ddde-0ab4225ef3b1"
      },
      "outputs": [
        {
          "output_type": "stream",
          "name": "stdout",
          "text": [
            "2.14.0\n"
          ]
        }
      ],
      "source": [
        "# Import tensorflow\n",
        "import cv2\n",
        "import tensorflow as tf\n",
        "from tensorflow import keras as tfk\n",
        "from tensorflow.keras import layers as tfkl\n",
        "tf.autograph.set_verbosity(0)\n",
        "tf.get_logger().setLevel(logging.ERROR)\n",
        "tf.compat.v1.logging.set_verbosity(tf.compat.v1.logging.ERROR)\n",
        "tf.random.set_seed(seed)\n",
        "tf.compat.v1.set_random_seed(seed)\n",
        "print(tf.__version__)"
      ]
    },
    {
      "cell_type": "code",
      "execution_count": null,
      "metadata": {
        "id": "28zWFgPtliCx"
      },
      "outputs": [],
      "source": [
        "# Import other libraries\n",
        "from tensorflow.keras.applications.efficientnet_v2 import preprocess_input\n",
        "import matplotlib.pyplot as plt\n",
        "from sklearn.model_selection import train_test_split\n",
        "from sklearn.metrics import accuracy_score, f1_score, precision_score, recall_score, confusion_matrix\n",
        "import seaborn as sns\n",
        "import pandas as pd\n",
        "from keras.preprocessing.image import ImageDataGenerator\n",
        "from imblearn.over_sampling import SMOTE"
      ]
    },
    {
      "cell_type": "markdown",
      "metadata": {
        "id": "McM1ld_DliCx"
      },
      "source": [
        "# Auxiliary functions"
      ]
    },
    {
      "cell_type": "code",
      "execution_count": null,
      "metadata": {
        "id": "25PAs5lYliCy"
      },
      "outputs": [],
      "source": [
        "def save_model(model, model_prefix=\"\"):\n",
        "    # Get a list of all files and directories in the current directory\n",
        "    all_files = os.listdir()\n",
        "\n",
        "    # Filter out directories that match the model prefix\n",
        "    model_directories = [d for d in all_files if os.path.isdir(d) and d.startswith(model_prefix)]\n",
        "\n",
        "    # If there are no existing models, start with version 1\n",
        "    if not model_directories:\n",
        "        new_version = 1\n",
        "    else:\n",
        "        # Extract version numbers from existing model directories\n",
        "        existing_versions = [int(d[len(model_prefix):]) for d in model_directories]\n",
        "        # Find the latest version\n",
        "        latest_version = max(existing_versions)\n",
        "        # Increment the latest version for the new model\n",
        "        new_version = latest_version + 1\n",
        "\n",
        "    # Construct the new model directory name\n",
        "    new_model_name = f'{model_prefix}{new_version}'\n",
        "\n",
        "    # Save the model\n",
        "    model.save(new_model_name)\n",
        "\n",
        "    # Delete the model from memory\n",
        "    del model\n",
        "\n",
        "    print(f'Saved model as {new_model_name}')"
      ]
    },
    {
      "cell_type": "code",
      "execution_count": null,
      "metadata": {
        "id": "7AAd-f5ZliCz"
      },
      "outputs": [],
      "source": [
        "def plot_confusion_matrix(model, X_test, y_test, labels=\"\"):\n",
        "\n",
        "    # Predict labels for the entire test set\n",
        "    predictions = model.predict(preprocess_input(X_test), verbose=0)\n",
        "\n",
        "    # Display the shape of the predictions\n",
        "    print(\"Predictions Shape:\", predictions.shape)\n",
        "    # Compute the confusion matrix\n",
        "    cm = confusion_matrix(np.argmax(y_test, axis=-1), np.argmax(predictions, axis=-1))\n",
        "\n",
        "    # Compute classification metrics\n",
        "    accuracy = accuracy_score(np.argmax(y_test, axis=-1), np.argmax(predictions, axis=-1))\n",
        "    precision = precision_score(np.argmax(y_test, axis=-1), np.argmax(predictions, axis=-1), average='macro')\n",
        "    recall = recall_score(np.argmax(y_test, axis=-1), np.argmax(predictions, axis=-1), average='macro')\n",
        "    f1 = f1_score(np.argmax(y_test, axis=-1), np.argmax(predictions, axis=-1), average='macro')\n",
        "\n",
        "    # Display the computed metrics\n",
        "    print('Accuracy:', accuracy.round(4))\n",
        "    print('Precision:', precision.round(4))\n",
        "    print('Recall:', recall.round(4))\n",
        "    print('F1:', f1.round(4))\n",
        "\n",
        "    # Plot the confusion matrix\n",
        "    plt.figure(figsize=(10, 8))\n",
        "    sns.heatmap(cm, xticklabels=list(np.unique(labels)), yticklabels=list(np.unique(labels)), cmap='Oranges')\n",
        "    plt.xlabel('True labels')\n",
        "    plt.ylabel('Predicted labels')\n",
        "    plt.show()\n",
        "\n",
        "    tp, fp, fn, tn = cm.ravel()\n",
        "    print(\"True Positive {}\".format(tp))\n",
        "    print(\"False Positive {}\".format(fp))\n",
        "    print(\"False Negative {}\".format(fn))\n",
        "    print(\"True Negative {}\".format(tn))\n"
      ]
    },
    {
      "cell_type": "code",
      "execution_count": null,
      "metadata": {
        "id": "DglomJpxliC0"
      },
      "outputs": [],
      "source": [
        "def build_model(input_shape, dropout_rate = 0.1, seed=seed, img_size = 224):\n",
        "    # Create an input layer with shape (input_shape)\n",
        "    inputs = tfk.Input(shape = input_shape)\n",
        "\n",
        "    x = tfkl.Resizing(img_size, img_size) (inputs)\n",
        "    x = tfkl.Reshape((img_size,img_size,3)) (x)\n",
        "\n",
        "    img_augmentation = tfk.Sequential([\n",
        "        tfkl.RandomRotation(factor=0.15),\n",
        "        tfkl.RandomTranslation(height_factor=0.1, width_factor=0.1),\n",
        "        tfkl.RandomFlip(),\n",
        "        tfkl.RandomContrast(factor=0.1),\n",
        "    ],name=\"img_augmentation\")\n",
        "\n",
        "    input_augmented = img_augmentation(x)\n",
        "\n",
        "    # Implementing EfficientNetV2B2 from keras.applications\n",
        "    efficientNet = tfk.applications.EfficientNetV2B2(\n",
        "        input_shape = (img_size, img_size, 3),\n",
        "        include_top = False,\n",
        "        weights = \"imagenet\",\n",
        "        pooling=\"avg\"\n",
        "    )\n",
        "\n",
        "     # Use the supernet as feature extractor, i.e. freeze all its weigths\n",
        "    efficientNet.trainable = False\n",
        "\n",
        "    model_output = efficientNet(input_augmented)\n",
        "\n",
        "    batch_norm = tfkl.BatchNormalization()(model_output)\n",
        "\n",
        "    hidden_layer = tfkl.Dense(units = 256, kernel_initializer = tfk.initializers.HeUniform(seed = seed), name = 'HiddenDense1')(batch_norm)\n",
        "    batch_norm = tfkl.BatchNormalization(name=\"BatchNorm1\") (hidden_layer)\n",
        "    hidden_activation = tfkl.Activation('relu', name = 'HiddenActivation1')(batch_norm)\n",
        "\n",
        "    dropout_layer = tfkl.Dropout(dropout_rate, seed=seed)(hidden_activation)\n",
        "\n",
        "    hidden_layer = tfkl.Dense(units = 256, kernel_initializer = tfk.initializers.GlorotUniform(seed = seed), name = 'HiddenDense2')(dropout_layer)\n",
        "    batch_norm = tfkl.BatchNormalization(name=\"BatchNorm2\") (hidden_layer)\n",
        "    hidden_activation = tfkl.Activation('relu', name = 'HiddenActivation2')(batch_norm)\n",
        "\n",
        "    dropout_layer = tfkl.Dropout(dropout_rate, seed=seed)(hidden_activation)\n",
        "\n",
        "    hidden_layer = tfkl.Dense(units = 256, kernel_initializer = tfk.initializers.GlorotUniform(seed = seed), name = 'HiddenDense3')(dropout_layer)\n",
        "    batch_norm = tfkl.BatchNormalization(name=\"BatchNorm3\") (hidden_layer)\n",
        "    hidden_activation = tfkl.Activation('relu', name = 'HiddenActivation3')(batch_norm)\n",
        "\n",
        "    dropout_layer = tfkl.Dropout(dropout_rate, seed=seed)(hidden_activation)\n",
        "\n",
        "    # Add a Dense layer with 2 units and softmax activation as the classifier\n",
        "    outputs_layer = tfkl.Dense(2, activation = 'softmax')(dropout_layer)\n",
        "\n",
        "\n",
        "    # Create a Model connecting input and output\n",
        "    model = tfk.Model(inputs = inputs, outputs = outputs_layer, name = 'model')\n",
        "\n",
        "    # Compile the model with Categorical Cross-Entropy loss and Adam optimizer\n",
        "    model.compile(loss = tfk.losses.BinaryCrossentropy(), optimizer = tfk.optimizers.Adam(), metrics = ['accuracy'])\n",
        "\n",
        "    return model"
      ]
    },
    {
      "cell_type": "code",
      "execution_count": null,
      "metadata": {
        "id": "HXBYjXDqliC1"
      },
      "outputs": [],
      "source": [
        "def remove_outliers(data, labels, outlier_list=(58, 332)):\n",
        "\n",
        "    for i in outlier_list:\n",
        "        mask = ~np.all(data == data[i], axis = (1,2,3))\n",
        "        data = data[mask]\n",
        "        labels = labels[mask]\n",
        "\n",
        "    return data, labels"
      ]
    },
    {
      "cell_type": "code",
      "execution_count": null,
      "metadata": {
        "id": "A71uusTmliC2"
      },
      "outputs": [],
      "source": [
        "def remove_duplicates(X, y):\n",
        "\n",
        "    unique_indices = np.unique(X, return_index=True, axis=0)[1]\n",
        "\n",
        "    X = X[unique_indices]\n",
        "    y = y[unique_indices]\n",
        "\n",
        "    return np.array(X), np.array(y)"
      ]
    },
    {
      "cell_type": "code",
      "execution_count": null,
      "metadata": {
        "id": "dwhzXlfatK-X"
      },
      "outputs": [],
      "source": [
        "def sample_beta_distribution(size, concentration_0=0.2, concentration_1=0.2):\n",
        "    gamma_1_sample = tf.random.gamma(shape=[size], alpha=concentration_1)\n",
        "    gamma_2_sample = tf.random.gamma(shape=[size], alpha=concentration_0)\n",
        "    return (gamma_1_sample / (gamma_1_sample + gamma_2_sample)).numpy()"
      ]
    },
    {
      "cell_type": "code",
      "execution_count": null,
      "metadata": {
        "id": "zfCW_GcAtK-Y"
      },
      "outputs": [],
      "source": [
        "def mixup(x_train, labels_train, alpha=0.2):\n",
        "\n",
        "    lam = np.random.beta(alpha, alpha)\n",
        "\n",
        "    batch_size = x_train.shape[0]\n",
        "\n",
        "    indices = np.random.permutation(batch_size)\n",
        "\n",
        "    x_mix = lam * x_train + (1 - lam) * x_train[indices, :]\n",
        "    labels_mix = lam * labels_train + (1 - lam) * labels_train[indices, :]\n",
        "\n",
        "    return x_mix, labels_mix\n"
      ]
    },
    {
      "cell_type": "markdown",
      "metadata": {
        "id": "oL-wM41VliC2"
      },
      "source": [
        "# Data Import"
      ]
    },
    {
      "cell_type": "code",
      "source": [
        "# Extracting data from public_data.npz\n",
        "file = np.load('public_data.npz', allow_pickle=True)\n",
        "\n",
        "# Creating the two numpy arrays\n",
        "data = file['data']\n",
        "labels = file['labels']\n",
        "\n",
        "data,labels = remove_outliers(data, labels)\n",
        "data, labels = remove_duplicates(data, labels)\n",
        "\n",
        "print(pd.DataFrame(labels, columns=['class'])['class'].value_counts())\n",
        "\n",
        "# Bring labels to categoricals and 1-hot encoding\n",
        "y = np.where(labels == 'healthy', 0, 1)\n",
        "y = tfk.utils.to_categorical(y, num_classes=len(np.unique(y)))\n",
        "\n",
        "# Split train_validation and test sets\n",
        "X_train_val, X_test, y_train_val, y_test = train_test_split(\n",
        "    data,\n",
        "    y,\n",
        "    random_state=seed,\n",
        "    test_size=.1,\n",
        "    stratify=y)\n",
        "\n",
        "# Split train and validation sets\n",
        "X_train, X_val, y_train, y_val = train_test_split(\n",
        "    X_train_val,\n",
        "    y_train_val,\n",
        "    test_size = len(X_test), # Ensure validation set size matches test set size\n",
        "    random_state=seed,\n",
        "    stratify=y_train_val\n",
        ")\n",
        "\n",
        "y_train_num = [row[0] for row in y_train]  # Extract info from first cell of each element\n",
        "\n",
        "# Create DataFrame and count values\n",
        "count_num_cl = pd.Series(y_train_num).value_counts()\n",
        "\n",
        "print(\"Number of positives and negatives: \")\n",
        "print(count_num_cl)"
      ],
      "metadata": {
        "id": "S-XYZXpAXcNM"
      },
      "execution_count": null,
      "outputs": []
    },
    {
      "cell_type": "markdown",
      "metadata": {
        "id": "C8fkouHQliC5"
      },
      "source": [
        "# Image Augmentation"
      ]
    },
    {
      "cell_type": "code",
      "execution_count": null,
      "metadata": {
        "id": "FW4MkBM-tK-b"
      },
      "outputs": [],
      "source": [
        "new_data, new_label = mixup(X_train, y_train)"
      ]
    },
    {
      "cell_type": "code",
      "execution_count": null,
      "metadata": {
        "id": "8r1l9_fatK-b"
      },
      "outputs": [],
      "source": [
        "X_train = np.concatenate((X_train, new_data), axis = 0)\n",
        "y_train = np.concatenate((y_train, new_label), axis = 0)"
      ]
    },
    {
      "cell_type": "code",
      "execution_count": null,
      "metadata": {
        "id": "_xcXIvVjtK-b"
      },
      "outputs": [],
      "source": [
        "del new_data\n",
        "del new_label"
      ]
    },
    {
      "cell_type": "code",
      "execution_count": null,
      "metadata": {
        "colab": {
          "base_uri": "https://localhost:8080/"
        },
        "id": "_DJSEyThliC9",
        "outputId": "7b9d11cc-b0e7-4ee8-be31-f8995fcc1df4"
      },
      "outputs": [
        {
          "name": "stdout",
          "output_type": "stream",
          "text": [
            "Counting occurrences of label classes:\n",
            "0    4912\n",
            "1    2888\n",
            "Name: class, dtype: int64\n"
          ]
        }
      ],
      "source": [
        "# Display the count of occurrences of label classes in the dataset\n",
        "print('Counting occurrences of label classes:')\n",
        "print(pd.DataFrame(np.argmax(y_train, axis=1), columns=['class'])['class'].value_counts())"
      ]
    },
    {
      "cell_type": "code",
      "execution_count": null,
      "metadata": {
        "colab": {
          "base_uri": "https://localhost:8080/"
        },
        "id": "HTn2ug_nliC-",
        "outputId": "e6ee1d05-fb9b-485e-d233-283751904e56"
      },
      "outputs": [
        {
          "name": "stdout",
          "output_type": "stream",
          "text": [
            "X_train shape: (7800, 96, 96, 3), y_train shape: (7800, 2)\n",
            "X_val shape: (501, 96, 96, 3), y_val shape: (501, 2)\n",
            "X_test shape: (501, 96, 96, 3), y_test shape: (501, 2)\n"
          ]
        }
      ],
      "source": [
        "# Print shapes of the datasets\n",
        "print(f\"X_train shape: {X_train.shape}, y_train shape: {y_train.shape}\")\n",
        "print(f\"X_val shape: {X_val.shape}, y_val shape: {y_val.shape}\")\n",
        "print(f\"X_test shape: {X_test.shape}, y_test shape: {y_test.shape}\")"
      ]
    },
    {
      "cell_type": "code",
      "execution_count": null,
      "metadata": {
        "colab": {
          "base_uri": "https://localhost:8080/"
        },
        "id": "PaSuisAsliC_",
        "outputId": "fed018f7-aa9e-452f-c471-ee33834a0ce2"
      },
      "outputs": [
        {
          "name": "stdout",
          "output_type": "stream",
          "text": [
            "Input Shape: (96, 96, 3)\n",
            "Output Shape: (2,)\n",
            "Batch Size: 512\n",
            "Epochs: 1000\n"
          ]
        }
      ],
      "source": [
        "# Define input shape, output shape, batch size, and number of epochs\n",
        "input_shape = X_train.shape[1:]\n",
        "output_shape = y_train.shape[1:]\n",
        "batch_size = 512 # TODO try different batch_size\n",
        "epochs = 1000\n",
        "\n",
        "# Print input shape, batch size, and number of epochs\n",
        "print(f\"Input Shape: {input_shape}\\nOutput Shape: {output_shape}\\nBatch Size: {batch_size}\\nEpochs: {epochs}\")"
      ]
    },
    {
      "cell_type": "markdown",
      "metadata": {
        "id": "TtfQqyqeliC_"
      },
      "source": [
        "# Callbacks"
      ]
    },
    {
      "cell_type": "code",
      "execution_count": null,
      "metadata": {
        "id": "ztMzh_lFliC_"
      },
      "outputs": [],
      "source": [
        "lr_patience = 5\n",
        "\n",
        "lr_scheduler = tfk.callbacks.ReduceLROnPlateau(\n",
        "    monitor = 'val_accuracy',     # Metric to monitor\n",
        "    patience = lr_patience,       # Number of epochs with no improvement after which learning rate will be reduced\n",
        "    factor = 0.9,                 # Factor by which the learning rate will be reduced  TODO try different factors\n",
        "    mode = 'auto',                # Mode to decide when to reduce learning rate\n",
        "    min_lr = 1e-5                 # Minimum learning rate\n",
        ")"
      ]
    },
    {
      "cell_type": "code",
      "execution_count": null,
      "metadata": {
        "id": "KIoRIWxIliC_"
      },
      "outputs": [],
      "source": [
        "early_stopping = tfk.callbacks.EarlyStopping(\n",
        "    monitor = 'val_accuracy',\n",
        "    patience = 25,\n",
        "    restore_best_weights = True,\n",
        "    mode = 'auto')"
      ]
    },
    {
      "cell_type": "code",
      "execution_count": null,
      "metadata": {
        "id": "-wt0ItToliDA"
      },
      "outputs": [],
      "source": [
        "callbacks = [early_stopping, lr_scheduler]"
      ]
    },
    {
      "cell_type": "markdown",
      "metadata": {
        "id": "fBFzxJBtliDA"
      },
      "source": [
        "# Build Model"
      ]
    },
    {
      "cell_type": "code",
      "execution_count": null,
      "metadata": {
        "colab": {
          "base_uri": "https://localhost:8080/"
        },
        "id": "ww-cIf6-liDA",
        "outputId": "f2086c7a-1e46-401c-9c74-65bc9565a125"
      },
      "outputs": [
        {
          "name": "stdout",
          "output_type": "stream",
          "text": [
            "Downloading data from https://storage.googleapis.com/tensorflow/keras-applications/efficientnet_v2/efficientnetv2-b2_notop.h5\n",
            "35839040/35839040 [==============================] - 0s 0us/step\n"
          ]
        }
      ],
      "source": [
        "model = build_model(input_shape=input_shape,\n",
        "                    dropout_rate=0.2,\n",
        "                    seed=seed)\n",
        "\n",
        "model.summary()"
      ]
    },
    {
      "cell_type": "markdown",
      "source": [
        "## Train the model"
      ],
      "metadata": {
        "id": "eybGqbexX1Km"
      }
    },
    {
      "cell_type": "code",
      "execution_count": null,
      "metadata": {
        "colab": {
          "base_uri": "https://localhost:8080/"
        },
        "id": "SIZEUTtDliDB",
        "outputId": "e83fd4cb-9c6d-47ba-f215-12d1cd0d08c9"
      },
      "outputs": [
        {
          "name": "stdout",
          "output_type": "stream",
          "text": [
            "Epoch 1/1000\n",
            "16/16 [==============================] - 84s 3s/step - loss: 0.7863 - accuracy: 0.6728 - val_loss: 0.5749 - val_accuracy: 0.7745 - lr: 0.0010\n",
            "Epoch 2/1000\n",
            "16/16 [==============================] - 17s 1s/step - loss: 0.5924 - accuracy: 0.7824 - val_loss: 0.5003 - val_accuracy: 0.7984 - lr: 0.0010\n",
            "Epoch 3/1000\n",
            "16/16 [==============================] - 17s 1s/step - loss: 0.5425 - accuracy: 0.8129 - val_loss: 0.4878 - val_accuracy: 0.8024 - lr: 0.0010\n",
            "Epoch 4/1000\n",
            "16/16 [==============================] - 18s 1s/step - loss: 0.5175 - accuracy: 0.8238 - val_loss: 0.4483 - val_accuracy: 0.8124 - lr: 0.0010\n",
            "Epoch 5/1000\n",
            "16/16 [==============================] - 18s 1s/step - loss: 0.4809 - accuracy: 0.8337 - val_loss: 0.4236 - val_accuracy: 0.8144 - lr: 0.0010\n",
            "Epoch 6/1000\n",
            "16/16 [==============================] - 18s 1s/step - loss: 0.4832 - accuracy: 0.8399 - val_loss: 0.4167 - val_accuracy: 0.8164 - lr: 0.0010\n",
            "Epoch 7/1000\n",
            "16/16 [==============================] - 18s 1s/step - loss: 0.4735 - accuracy: 0.8386 - val_loss: 0.4042 - val_accuracy: 0.8224 - lr: 0.0010\n",
            "Epoch 8/1000\n",
            "16/16 [==============================] - 18s 1s/step - loss: 0.4524 - accuracy: 0.8424 - val_loss: 0.3957 - val_accuracy: 0.8283 - lr: 0.0010\n",
            "Epoch 9/1000\n",
            "16/16 [==============================] - 17s 1s/step - loss: 0.4424 - accuracy: 0.8428 - val_loss: 0.3812 - val_accuracy: 0.8383 - lr: 0.0010\n",
            "Epoch 10/1000\n",
            "16/16 [==============================] - 17s 1s/step - loss: 0.4360 - accuracy: 0.8551 - val_loss: 0.3857 - val_accuracy: 0.8283 - lr: 0.0010\n",
            "Epoch 11/1000\n",
            "16/16 [==============================] - 17s 1s/step - loss: 0.4160 - accuracy: 0.8536 - val_loss: 0.3620 - val_accuracy: 0.8383 - lr: 0.0010\n",
            "Epoch 12/1000\n",
            "16/16 [==============================] - 17s 1s/step - loss: 0.4106 - accuracy: 0.8653 - val_loss: 0.3592 - val_accuracy: 0.8343 - lr: 0.0010\n",
            "Epoch 13/1000\n",
            "16/16 [==============================] - 17s 1s/step - loss: 0.4253 - accuracy: 0.8558 - val_loss: 0.3411 - val_accuracy: 0.8403 - lr: 0.0010\n",
            "Epoch 14/1000\n",
            "16/16 [==============================] - 17s 1s/step - loss: 0.4090 - accuracy: 0.8642 - val_loss: 0.3302 - val_accuracy: 0.8443 - lr: 0.0010\n",
            "Epoch 15/1000\n",
            "16/16 [==============================] - 18s 1s/step - loss: 0.4044 - accuracy: 0.8637 - val_loss: 0.3353 - val_accuracy: 0.8363 - lr: 0.0010\n",
            "Epoch 16/1000\n",
            "16/16 [==============================] - 17s 1s/step - loss: 0.3968 - accuracy: 0.8706 - val_loss: 0.3371 - val_accuracy: 0.8383 - lr: 0.0010\n",
            "Epoch 17/1000\n",
            "16/16 [==============================] - 17s 1s/step - loss: 0.3910 - accuracy: 0.8686 - val_loss: 0.3373 - val_accuracy: 0.8383 - lr: 0.0010\n",
            "Epoch 18/1000\n",
            "16/16 [==============================] - 17s 1s/step - loss: 0.3811 - accuracy: 0.8737 - val_loss: 0.3409 - val_accuracy: 0.8423 - lr: 0.0010\n",
            "Epoch 19/1000\n",
            "16/16 [==============================] - 18s 1s/step - loss: 0.3791 - accuracy: 0.8694 - val_loss: 0.3207 - val_accuracy: 0.8483 - lr: 0.0010\n",
            "Epoch 20/1000\n",
            "16/16 [==============================] - 17s 1s/step - loss: 0.3749 - accuracy: 0.8774 - val_loss: 0.3086 - val_accuracy: 0.8443 - lr: 0.0010\n",
            "Epoch 21/1000\n",
            "16/16 [==============================] - 18s 1s/step - loss: 0.3773 - accuracy: 0.8765 - val_loss: 0.3393 - val_accuracy: 0.8363 - lr: 0.0010\n",
            "Epoch 22/1000\n",
            "16/16 [==============================] - 17s 1s/step - loss: 0.3801 - accuracy: 0.8733 - val_loss: 0.3300 - val_accuracy: 0.8383 - lr: 0.0010\n",
            "Epoch 23/1000\n",
            "16/16 [==============================] - 18s 1s/step - loss: 0.3683 - accuracy: 0.8777 - val_loss: 0.3291 - val_accuracy: 0.8503 - lr: 0.0010\n",
            "Epoch 24/1000\n",
            "16/16 [==============================] - 18s 1s/step - loss: 0.3540 - accuracy: 0.8804 - val_loss: 0.3096 - val_accuracy: 0.8503 - lr: 0.0010\n",
            "Epoch 25/1000\n",
            "16/16 [==============================] - 18s 1s/step - loss: 0.3434 - accuracy: 0.8906 - val_loss: 0.3184 - val_accuracy: 0.8603 - lr: 0.0010\n",
            "Epoch 26/1000\n",
            "16/16 [==============================] - 17s 1s/step - loss: 0.3508 - accuracy: 0.8856 - val_loss: 0.3187 - val_accuracy: 0.8523 - lr: 0.0010\n",
            "Epoch 27/1000\n",
            "16/16 [==============================] - 17s 1s/step - loss: 0.3582 - accuracy: 0.8804 - val_loss: 0.3263 - val_accuracy: 0.8603 - lr: 0.0010\n",
            "Epoch 28/1000\n",
            "16/16 [==============================] - 18s 1s/step - loss: 0.3585 - accuracy: 0.8796 - val_loss: 0.3297 - val_accuracy: 0.8503 - lr: 0.0010\n",
            "Epoch 29/1000\n",
            "16/16 [==============================] - 18s 1s/step - loss: 0.3446 - accuracy: 0.8845 - val_loss: 0.3044 - val_accuracy: 0.8603 - lr: 0.0010\n",
            "Epoch 30/1000\n",
            "16/16 [==============================] - 17s 1s/step - loss: 0.3470 - accuracy: 0.8882 - val_loss: 0.3199 - val_accuracy: 0.8643 - lr: 0.0010\n",
            "Epoch 31/1000\n",
            "16/16 [==============================] - 17s 1s/step - loss: 0.3380 - accuracy: 0.8917 - val_loss: 0.3209 - val_accuracy: 0.8603 - lr: 0.0010\n",
            "Epoch 32/1000\n",
            "16/16 [==============================] - 17s 1s/step - loss: 0.3321 - accuracy: 0.8919 - val_loss: 0.3183 - val_accuracy: 0.8643 - lr: 0.0010\n",
            "Epoch 33/1000\n",
            "16/16 [==============================] - 17s 1s/step - loss: 0.3336 - accuracy: 0.8929 - val_loss: 0.3437 - val_accuracy: 0.8503 - lr: 0.0010\n",
            "Epoch 34/1000\n",
            "16/16 [==============================] - 17s 1s/step - loss: 0.3075 - accuracy: 0.9014 - val_loss: 0.3422 - val_accuracy: 0.8523 - lr: 0.0010\n",
            "Epoch 35/1000\n",
            "16/16 [==============================] - 17s 1s/step - loss: 0.3187 - accuracy: 0.8955 - val_loss: 0.3208 - val_accuracy: 0.8583 - lr: 0.0010\n",
            "Epoch 36/1000\n",
            "16/16 [==============================] - 18s 1s/step - loss: 0.3137 - accuracy: 0.8950 - val_loss: 0.3173 - val_accuracy: 0.8782 - lr: 9.0000e-04\n",
            "Epoch 37/1000\n",
            "16/16 [==============================] - 17s 1s/step - loss: 0.3217 - accuracy: 0.8964 - val_loss: 0.3078 - val_accuracy: 0.8663 - lr: 9.0000e-04\n",
            "Epoch 38/1000\n",
            "16/16 [==============================] - 17s 1s/step - loss: 0.3135 - accuracy: 0.9003 - val_loss: 0.3060 - val_accuracy: 0.8663 - lr: 9.0000e-04\n",
            "Epoch 39/1000\n",
            "16/16 [==============================] - 17s 1s/step - loss: 0.3152 - accuracy: 0.9009 - val_loss: 0.3167 - val_accuracy: 0.8543 - lr: 9.0000e-04\n",
            "Epoch 40/1000\n",
            "16/16 [==============================] - 17s 1s/step - loss: 0.3069 - accuracy: 0.8996 - val_loss: 0.3003 - val_accuracy: 0.8683 - lr: 9.0000e-04\n",
            "Epoch 41/1000\n",
            "16/16 [==============================] - 17s 1s/step - loss: 0.3066 - accuracy: 0.9018 - val_loss: 0.3127 - val_accuracy: 0.8643 - lr: 9.0000e-04\n",
            "Epoch 42/1000\n",
            "16/16 [==============================] - 18s 1s/step - loss: 0.2984 - accuracy: 0.9064 - val_loss: 0.3086 - val_accuracy: 0.8483 - lr: 8.1000e-04\n",
            "Epoch 43/1000\n",
            "16/16 [==============================] - 17s 1s/step - loss: 0.2945 - accuracy: 0.9067 - val_loss: 0.2893 - val_accuracy: 0.8563 - lr: 8.1000e-04\n",
            "Epoch 44/1000\n",
            "16/16 [==============================] - 18s 1s/step - loss: 0.2857 - accuracy: 0.9081 - val_loss: 0.3017 - val_accuracy: 0.8603 - lr: 8.1000e-04\n",
            "Epoch 45/1000\n",
            "16/16 [==============================] - 17s 1s/step - loss: 0.3099 - accuracy: 0.8964 - val_loss: 0.3011 - val_accuracy: 0.8663 - lr: 8.1000e-04\n",
            "Epoch 46/1000\n",
            "16/16 [==============================] - 18s 1s/step - loss: 0.2914 - accuracy: 0.9067 - val_loss: 0.2982 - val_accuracy: 0.8603 - lr: 8.1000e-04\n",
            "Epoch 47/1000\n",
            "16/16 [==============================] - 18s 1s/step - loss: 0.2907 - accuracy: 0.9024 - val_loss: 0.3094 - val_accuracy: 0.8683 - lr: 7.2900e-04\n",
            "Epoch 48/1000\n",
            "16/16 [==============================] - 18s 1s/step - loss: 0.2919 - accuracy: 0.9071 - val_loss: 0.3097 - val_accuracy: 0.8603 - lr: 7.2900e-04\n",
            "Epoch 49/1000\n",
            "16/16 [==============================] - 18s 1s/step - loss: 0.2879 - accuracy: 0.9088 - val_loss: 0.3125 - val_accuracy: 0.8583 - lr: 7.2900e-04\n",
            "Epoch 50/1000\n",
            "16/16 [==============================] - 17s 1s/step - loss: 0.2806 - accuracy: 0.9088 - val_loss: 0.3005 - val_accuracy: 0.8523 - lr: 7.2900e-04\n",
            "Epoch 51/1000\n",
            "16/16 [==============================] - 18s 1s/step - loss: 0.2748 - accuracy: 0.9149 - val_loss: 0.3056 - val_accuracy: 0.8563 - lr: 7.2900e-04\n",
            "Epoch 52/1000\n",
            "16/16 [==============================] - 17s 1s/step - loss: 0.2744 - accuracy: 0.9151 - val_loss: 0.3025 - val_accuracy: 0.8563 - lr: 6.5610e-04\n",
            "Epoch 53/1000\n",
            "16/16 [==============================] - 17s 1s/step - loss: 0.2736 - accuracy: 0.9129 - val_loss: 0.2975 - val_accuracy: 0.8623 - lr: 6.5610e-04\n",
            "Epoch 54/1000\n",
            "16/16 [==============================] - 17s 1s/step - loss: 0.2762 - accuracy: 0.9133 - val_loss: 0.3069 - val_accuracy: 0.8683 - lr: 6.5610e-04\n",
            "Epoch 55/1000\n",
            "16/16 [==============================] - 17s 1s/step - loss: 0.2698 - accuracy: 0.9165 - val_loss: 0.3213 - val_accuracy: 0.8683 - lr: 6.5610e-04\n",
            "Epoch 56/1000\n",
            "16/16 [==============================] - 18s 1s/step - loss: 0.2633 - accuracy: 0.9204 - val_loss: 0.3024 - val_accuracy: 0.8663 - lr: 6.5610e-04\n",
            "Epoch 57/1000\n",
            "16/16 [==============================] - 17s 1s/step - loss: 0.2688 - accuracy: 0.9115 - val_loss: 0.2997 - val_accuracy: 0.8563 - lr: 5.9049e-04\n",
            "Epoch 58/1000\n",
            "16/16 [==============================] - 17s 1s/step - loss: 0.2760 - accuracy: 0.9151 - val_loss: 0.2878 - val_accuracy: 0.8723 - lr: 5.9049e-04\n",
            "Epoch 59/1000\n",
            "16/16 [==============================] - 17s 1s/step - loss: 0.2476 - accuracy: 0.9229 - val_loss: 0.2863 - val_accuracy: 0.8842 - lr: 5.9049e-04\n",
            "Epoch 60/1000\n",
            "16/16 [==============================] - 18s 1s/step - loss: 0.2564 - accuracy: 0.9181 - val_loss: 0.3060 - val_accuracy: 0.8723 - lr: 5.9049e-04\n",
            "Epoch 61/1000\n",
            "16/16 [==============================] - 17s 1s/step - loss: 0.2533 - accuracy: 0.9181 - val_loss: 0.3122 - val_accuracy: 0.8703 - lr: 5.9049e-04\n",
            "Epoch 62/1000\n",
            "16/16 [==============================] - 17s 1s/step - loss: 0.2431 - accuracy: 0.9271 - val_loss: 0.3013 - val_accuracy: 0.8743 - lr: 5.9049e-04\n",
            "Epoch 63/1000\n",
            "16/16 [==============================] - 18s 1s/step - loss: 0.2623 - accuracy: 0.9168 - val_loss: 0.2919 - val_accuracy: 0.8762 - lr: 5.9049e-04\n",
            "Epoch 64/1000\n",
            "16/16 [==============================] - 17s 1s/step - loss: 0.2636 - accuracy: 0.9174 - val_loss: 0.3128 - val_accuracy: 0.8723 - lr: 5.9049e-04\n",
            "Epoch 65/1000\n",
            "16/16 [==============================] - 18s 1s/step - loss: 0.2591 - accuracy: 0.9163 - val_loss: 0.3123 - val_accuracy: 0.8782 - lr: 5.3144e-04\n",
            "Epoch 66/1000\n",
            "16/16 [==============================] - 18s 1s/step - loss: 0.2560 - accuracy: 0.9153 - val_loss: 0.2968 - val_accuracy: 0.8842 - lr: 5.3144e-04\n",
            "Epoch 67/1000\n",
            "16/16 [==============================] - 17s 1s/step - loss: 0.2504 - accuracy: 0.9227 - val_loss: 0.3029 - val_accuracy: 0.8743 - lr: 5.3144e-04\n",
            "Epoch 68/1000\n",
            "16/16 [==============================] - 18s 1s/step - loss: 0.2405 - accuracy: 0.9265 - val_loss: 0.2979 - val_accuracy: 0.8782 - lr: 5.3144e-04\n",
            "Epoch 69/1000\n",
            "16/16 [==============================] - 17s 1s/step - loss: 0.2472 - accuracy: 0.9233 - val_loss: 0.3243 - val_accuracy: 0.8623 - lr: 5.3144e-04\n",
            "Epoch 70/1000\n",
            "16/16 [==============================] - 17s 1s/step - loss: 0.2562 - accuracy: 0.9178 - val_loss: 0.3159 - val_accuracy: 0.8603 - lr: 4.7830e-04\n",
            "Epoch 71/1000\n",
            "16/16 [==============================] - 17s 1s/step - loss: 0.2483 - accuracy: 0.9212 - val_loss: 0.3073 - val_accuracy: 0.8643 - lr: 4.7830e-04\n",
            "Epoch 72/1000\n",
            "16/16 [==============================] - 18s 1s/step - loss: 0.2417 - accuracy: 0.9259 - val_loss: 0.2999 - val_accuracy: 0.8623 - lr: 4.7830e-04\n",
            "Epoch 73/1000\n",
            "16/16 [==============================] - 17s 1s/step - loss: 0.2378 - accuracy: 0.9247 - val_loss: 0.3046 - val_accuracy: 0.8683 - lr: 4.7830e-04\n",
            "Epoch 74/1000\n",
            "16/16 [==============================] - 17s 1s/step - loss: 0.2365 - accuracy: 0.9294 - val_loss: 0.3039 - val_accuracy: 0.8723 - lr: 4.7830e-04\n",
            "Epoch 75/1000\n",
            "16/16 [==============================] - 18s 1s/step - loss: 0.2463 - accuracy: 0.9221 - val_loss: 0.3116 - val_accuracy: 0.8782 - lr: 4.3047e-04\n",
            "Epoch 76/1000\n",
            "16/16 [==============================] - 17s 1s/step - loss: 0.2390 - accuracy: 0.9245 - val_loss: 0.2996 - val_accuracy: 0.8822 - lr: 4.3047e-04\n",
            "Epoch 77/1000\n",
            "16/16 [==============================] - 17s 1s/step - loss: 0.2385 - accuracy: 0.9282 - val_loss: 0.3112 - val_accuracy: 0.8743 - lr: 4.3047e-04\n",
            "Epoch 78/1000\n",
            "16/16 [==============================] - 18s 1s/step - loss: 0.2315 - accuracy: 0.9312 - val_loss: 0.3004 - val_accuracy: 0.8743 - lr: 4.3047e-04\n",
            "Epoch 79/1000\n",
            "16/16 [==============================] - 17s 1s/step - loss: 0.2277 - accuracy: 0.9278 - val_loss: 0.3008 - val_accuracy: 0.8822 - lr: 4.3047e-04\n",
            "Epoch 80/1000\n",
            "16/16 [==============================] - 18s 1s/step - loss: 0.2180 - accuracy: 0.9328 - val_loss: 0.3049 - val_accuracy: 0.8802 - lr: 3.8742e-04\n",
            "Epoch 81/1000\n",
            "16/16 [==============================] - 18s 1s/step - loss: 0.2285 - accuracy: 0.9291 - val_loss: 0.3031 - val_accuracy: 0.8802 - lr: 3.8742e-04\n",
            "Epoch 82/1000\n",
            "16/16 [==============================] - 18s 1s/step - loss: 0.2212 - accuracy: 0.9338 - val_loss: 0.3048 - val_accuracy: 0.8802 - lr: 3.8742e-04\n",
            "Epoch 83/1000\n",
            "16/16 [==============================] - 17s 1s/step - loss: 0.2366 - accuracy: 0.9264 - val_loss: 0.2998 - val_accuracy: 0.8902 - lr: 3.8742e-04\n",
            "Epoch 84/1000\n",
            "16/16 [==============================] - 17s 1s/step - loss: 0.2345 - accuracy: 0.9286 - val_loss: 0.3116 - val_accuracy: 0.8723 - lr: 3.8742e-04\n",
            "Epoch 85/1000\n",
            "16/16 [==============================] - 17s 1s/step - loss: 0.2430 - accuracy: 0.9249 - val_loss: 0.3129 - val_accuracy: 0.8683 - lr: 3.8742e-04\n",
            "Epoch 86/1000\n",
            "16/16 [==============================] - 17s 1s/step - loss: 0.2172 - accuracy: 0.9308 - val_loss: 0.3104 - val_accuracy: 0.8842 - lr: 3.8742e-04\n",
            "Epoch 87/1000\n",
            "16/16 [==============================] - 17s 1s/step - loss: 0.2269 - accuracy: 0.9301 - val_loss: 0.3028 - val_accuracy: 0.8882 - lr: 3.8742e-04\n",
            "Epoch 88/1000\n",
            "16/16 [==============================] - 17s 1s/step - loss: 0.2197 - accuracy: 0.9338 - val_loss: 0.3085 - val_accuracy: 0.8782 - lr: 3.8742e-04\n",
            "Epoch 89/1000\n",
            "16/16 [==============================] - 18s 1s/step - loss: 0.2255 - accuracy: 0.9315 - val_loss: 0.3225 - val_accuracy: 0.8703 - lr: 3.4868e-04\n",
            "Epoch 90/1000\n",
            "16/16 [==============================] - 18s 1s/step - loss: 0.2230 - accuracy: 0.9329 - val_loss: 0.2968 - val_accuracy: 0.8802 - lr: 3.4868e-04\n",
            "Epoch 91/1000\n",
            "16/16 [==============================] - 18s 1s/step - loss: 0.2220 - accuracy: 0.9337 - val_loss: 0.3142 - val_accuracy: 0.8822 - lr: 3.4868e-04\n",
            "Epoch 92/1000\n",
            "16/16 [==============================] - 17s 1s/step - loss: 0.2149 - accuracy: 0.9341 - val_loss: 0.3183 - val_accuracy: 0.8683 - lr: 3.4868e-04\n",
            "Epoch 93/1000\n",
            "16/16 [==============================] - 17s 1s/step - loss: 0.2051 - accuracy: 0.9395 - val_loss: 0.3145 - val_accuracy: 0.8782 - lr: 3.4868e-04\n",
            "Epoch 94/1000\n",
            "16/16 [==============================] - 18s 1s/step - loss: 0.2197 - accuracy: 0.9328 - val_loss: 0.3128 - val_accuracy: 0.8643 - lr: 3.1381e-04\n",
            "Epoch 95/1000\n",
            "16/16 [==============================] - 18s 1s/step - loss: 0.2212 - accuracy: 0.9332 - val_loss: 0.3129 - val_accuracy: 0.8723 - lr: 3.1381e-04\n",
            "Epoch 96/1000\n",
            "16/16 [==============================] - 18s 1s/step - loss: 0.2144 - accuracy: 0.9335 - val_loss: 0.3141 - val_accuracy: 0.8762 - lr: 3.1381e-04\n",
            "Epoch 97/1000\n",
            "16/16 [==============================] - 17s 1s/step - loss: 0.2234 - accuracy: 0.9304 - val_loss: 0.3270 - val_accuracy: 0.8743 - lr: 3.1381e-04\n",
            "Epoch 98/1000\n",
            "16/16 [==============================] - 18s 1s/step - loss: 0.2196 - accuracy: 0.9351 - val_loss: 0.3316 - val_accuracy: 0.8603 - lr: 3.1381e-04\n",
            "Epoch 99/1000\n",
            "16/16 [==============================] - 18s 1s/step - loss: 0.2045 - accuracy: 0.9396 - val_loss: 0.3212 - val_accuracy: 0.8802 - lr: 2.8243e-04\n",
            "Epoch 100/1000\n",
            "16/16 [==============================] - 18s 1s/step - loss: 0.2143 - accuracy: 0.9349 - val_loss: 0.3384 - val_accuracy: 0.8683 - lr: 2.8243e-04\n",
            "Epoch 101/1000\n",
            "16/16 [==============================] - 17s 1s/step - loss: 0.2139 - accuracy: 0.9346 - val_loss: 0.3419 - val_accuracy: 0.8782 - lr: 2.8243e-04\n",
            "Epoch 102/1000\n",
            "16/16 [==============================] - 17s 1s/step - loss: 0.2080 - accuracy: 0.9365 - val_loss: 0.3100 - val_accuracy: 0.8822 - lr: 2.8243e-04\n",
            "Epoch 103/1000\n",
            "16/16 [==============================] - 17s 1s/step - loss: 0.2126 - accuracy: 0.9313 - val_loss: 0.3245 - val_accuracy: 0.8842 - lr: 2.8243e-04\n",
            "Epoch 104/1000\n",
            "16/16 [==============================] - 17s 1s/step - loss: 0.2107 - accuracy: 0.9395 - val_loss: 0.3192 - val_accuracy: 0.8802 - lr: 2.5419e-04\n",
            "Epoch 105/1000\n",
            "16/16 [==============================] - 17s 1s/step - loss: 0.2102 - accuracy: 0.9397 - val_loss: 0.3113 - val_accuracy: 0.8882 - lr: 2.5419e-04\n",
            "Epoch 106/1000\n",
            "16/16 [==============================] - 17s 1s/step - loss: 0.2043 - accuracy: 0.9395 - val_loss: 0.3010 - val_accuracy: 0.8882 - lr: 2.5419e-04\n",
            "Epoch 107/1000\n",
            "16/16 [==============================] - 18s 1s/step - loss: 0.2118 - accuracy: 0.9372 - val_loss: 0.3020 - val_accuracy: 0.8743 - lr: 2.5419e-04\n",
            "Epoch 108/1000\n",
            "16/16 [==============================] - 18s 1s/step - loss: 0.1981 - accuracy: 0.9417 - val_loss: 0.3142 - val_accuracy: 0.8802 - lr: 2.5419e-04\n"
          ]
        }
      ],
      "source": [
        "# determine distribution of the two classes\n",
        "# Remember: class 0 is healty and class 1 is unhealty\n",
        "num_healty = sum(sublist[0] for sublist in y_train)\n",
        "num_unhealty = sum(sublist[1] for sublist in y_train)\n",
        "\n",
        "if num_healty > num_unhealty:\n",
        "  class_weights = {\n",
        "      0: 1,  # Class 0\n",
        "      1: (num_healty / float(num_unhealty))  # Class 1, assuming class 1 is the minority and you want to weight it higher\n",
        "  }\n",
        "else:\n",
        "  class_weights = {\n",
        "      0: (num_unhealty / float(num_healty)),  # Class 0, assuming class 0 is the minority and you want to weight it higher\n",
        "      1: 1  # Class 1\n",
        "  }\n",
        "\n",
        "history = model.fit(\n",
        "    x = preprocess_input(X_train), # We need to apply the preprocessing thought for the MobileNetV2 network\n",
        "    y = y_train,\n",
        "    batch_size = batch_size,\n",
        "    epochs = epochs,\n",
        "    validation_data = (preprocess_input(X_val), y_val), # We need to apply the preprocessing thought for the MobileNetV2 network\n",
        "    callbacks = callbacks,\n",
        "    class_weight=class_weights\n",
        ").history"
      ]
    },
    {
      "cell_type": "code",
      "execution_count": null,
      "metadata": {
        "colab": {
          "base_uri": "https://localhost:8080/",
          "height": 818
        },
        "id": "U9A8LADGliDB",
        "outputId": "65ad1596-c17f-40cd-e080-9ee3ae6bad1b"
      },
      "outputs": [
        {
          "data": {
            "image/png": "[encoded data removed]",
            "text/plain": [
              "<Figure size 2000x500 with 1 Axes>"
            ]
          },
          "metadata": {},
          "output_type": "display_data"
        },
        {
          "data": {
            "image/png": "[encoded data removed]",
            "text/plain": [
              "<Figure size 2000x500 with 1 Axes>"
            ]
          },
          "metadata": {},
          "output_type": "display_data"
        }
      ],
      "source": [
        "best_epoch = np.argmax(history['val_accuracy'])\n",
        "\n",
        "# Plot the re-trained and the transfer learning MobileNetV2 training histories\n",
        "plt.figure(figsize=(20,5))\n",
        "plt.plot(history['loss'], color='#FF0000', label='Training Loss')\n",
        "plt.plot(history['val_loss'], color='#4D61E2', label='Validation Loss')\n",
        "plt.plot(best_epoch, history['val_loss'][best_epoch], marker='*', alpha=0.8, markersize=10, color='#4D61E2')\n",
        "plt.legend(loc='upper right')\n",
        "plt.title('Categorical Crossentropy')\n",
        "plt.grid(alpha=.3)\n",
        "\n",
        "plt.figure(figsize=(20,5))\n",
        "plt.plot(history['accuracy'], color='#FF0000', label='Training Accuracy')\n",
        "plt.plot(history['val_accuracy'], color='#4D61E2', label='Validation Accuracy')\n",
        "plt.plot(best_epoch, history['val_accuracy'][best_epoch], marker='*', alpha=0.8, markersize=10, color='#4D61E2')\n",
        "plt.legend(loc='upper left')\n",
        "plt.title('Accuracy')\n",
        "plt.grid(alpha=.3)\n",
        "\n",
        "plt.show()"
      ]
    },
    {
      "cell_type": "code",
      "execution_count": null,
      "metadata": {
        "id": "obDNWO3oliDC"
      },
      "outputs": [],
      "source": [
        "model.save(\"./Checkpoint\")"
      ]
    },
    {
      "cell_type": "markdown",
      "metadata": {
        "id": "I97ekUkaliDF"
      },
      "source": [
        "# Fine tuning"
      ]
    },
    {
      "cell_type": "code",
      "execution_count": null,
      "metadata": {
        "colab": {
          "background_save": true
        },
        "id": "J_ttEbcXliDF",
        "outputId": "db5f20ae-8934-4a23-f897-96c6144740a2"
      },
      "outputs": [
        {
          "name": "stdout",
          "output_type": "stream",
          "text": [
            "Model: \"model\"\n",
            "_________________________________________________________________\n",
            " Layer (type)                Output Shape              Param #   \n",
            "=================================================================\n",
            " input_1 (InputLayer)        [(None, 96, 96, 3)]       0         \n",
            "                                                                 \n",
            " resizing (Resizing)         (None, 224, 224, 3)       0         \n",
            "                                                                 \n",
            " reshape (Reshape)           (None, 224, 224, 3)       0         \n",
            "                                                                 \n",
            " img_augmentation (Sequenti  (None, 224, 224, 3)       0         \n",
            " al)                                                             \n",
            "                                                                 \n",
            " efficientnetv2-b2 (Functio  (None, 1408)              8769374   \n",
            " nal)                                                            \n",
            "                                                                 \n",
            " batch_normalization (Batch  (None, 1408)              5632      \n",
            " Normalization)                                                  \n",
            "                                                                 \n",
            " HiddenDense1 (Dense)        (None, 256)               360704    \n",
            "                                                                 \n",
            " BatchNorm1 (BatchNormaliza  (None, 256)               1024      \n",
            " tion)                                                           \n",
            "                                                                 \n",
            " HiddenActivation1 (Activat  (None, 256)               0         \n",
            " ion)                                                            \n",
            "                                                                 \n",
            " dropout (Dropout)           (None, 256)               0         \n",
            "                                                                 \n",
            " HiddenDense2 (Dense)        (None, 256)               65792     \n",
            "                                                                 \n",
            " BatchNorm2 (BatchNormaliza  (None, 256)               1024      \n",
            " tion)                                                           \n",
            "                                                                 \n",
            " HiddenActivation2 (Activat  (None, 256)               0         \n",
            " ion)                                                            \n",
            "                                                                 \n",
            " dropout_1 (Dropout)         (None, 256)               0         \n",
            "                                                                 \n",
            " HiddenDense3 (Dense)        (None, 256)               65792     \n",
            "                                                                 \n",
            " BatchNorm3 (BatchNormaliza  (None, 256)               1024      \n",
            " tion)                                                           \n",
            "                                                                 \n",
            " HiddenActivation3 (Activat  (None, 256)               0         \n",
            " ion)                                                            \n",
            "                                                                 \n",
            " dropout_2 (Dropout)         (None, 256)               0         \n",
            "                                                                 \n",
            " dense (Dense)               (None, 2)                 514       \n",
            "                                                                 \n",
            "=================================================================\n",
            "Total params: 9270880 (35.37 MB)\n",
            "Trainable params: 0 (0.00 Byte)\n",
            "Non-trainable params: 9270880 (35.37 MB)\n",
            "_________________________________________________________________\n"
          ]
        }
      ],
      "source": [
        "model.summary()"
      ]
    },
    {
      "cell_type": "code",
      "execution_count": null,
      "metadata": {
        "colab": {
          "background_save": true
        },
        "id": "anWy4aM3BX81",
        "outputId": "8320e366-224b-4755-a83d-afdb1e618859"
      },
      "outputs": [
        {
          "name": "stdout",
          "output_type": "stream",
          "text": [
            "0 input_2 False\n",
            "1 rescaling False\n",
            "2 normalization False\n",
            "3 stem_conv False\n",
            "4 stem_bn False\n",
            "5 stem_activation False\n",
            "6 block1a_project_conv False\n",
            "7 block1a_project_bn False\n",
            "8 block1a_project_activation False\n",
            "9 block1b_project_conv False\n",
            "10 block1b_project_bn False\n",
            "11 block1b_project_activation False\n",
            "12 block1b_drop False\n",
            "13 block1b_add False\n",
            "14 block2a_expand_conv False\n",
            "15 block2a_expand_bn False\n",
            "16 block2a_expand_activation False\n",
            "17 block2a_project_conv False\n",
            "18 block2a_project_bn False\n",
            "19 block2b_expand_conv False\n",
            "20 block2b_expand_bn False\n",
            "21 block2b_expand_activation False\n",
            "22 block2b_project_conv False\n",
            "23 block2b_project_bn False\n",
            "24 block2b_drop False\n",
            "25 block2b_add False\n",
            "26 block2c_expand_conv False\n",
            "27 block2c_expand_bn False\n",
            "28 block2c_expand_activation False\n",
            "29 block2c_project_conv False\n",
            "30 block2c_project_bn False\n",
            "31 block2c_drop False\n",
            "32 block2c_add False\n",
            "33 block3a_expand_conv False\n",
            "34 block3a_expand_bn False\n",
            "35 block3a_expand_activation False\n",
            "36 block3a_project_conv False\n",
            "37 block3a_project_bn False\n",
            "38 block3b_expand_conv False\n",
            "39 block3b_expand_bn False\n",
            "40 block3b_expand_activation False\n",
            "41 block3b_project_conv False\n",
            "42 block3b_project_bn False\n",
            "43 block3b_drop False\n",
            "44 block3b_add False\n",
            "45 block3c_expand_conv False\n",
            "46 block3c_expand_bn False\n",
            "47 block3c_expand_activation False\n",
            "48 block3c_project_conv False\n",
            "49 block3c_project_bn False\n",
            "50 block3c_drop False\n",
            "51 block3c_add False\n",
            "52 block4a_expand_conv False\n",
            "53 block4a_expand_bn False\n",
            "54 block4a_expand_activation False\n",
            "55 block4a_dwconv2 False\n",
            "56 block4a_bn False\n",
            "57 block4a_activation False\n",
            "58 block4a_se_squeeze False\n",
            "59 block4a_se_reshape False\n",
            "60 block4a_se_reduce False\n",
            "61 block4a_se_expand False\n",
            "62 block4a_se_excite False\n",
            "63 block4a_project_conv False\n",
            "64 block4a_project_bn False\n",
            "65 block4b_expand_conv False\n",
            "66 block4b_expand_bn False\n",
            "67 block4b_expand_activation False\n",
            "68 block4b_dwconv2 False\n",
            "69 block4b_bn False\n",
            "70 block4b_activation False\n",
            "71 block4b_se_squeeze False\n",
            "72 block4b_se_reshape False\n",
            "73 block4b_se_reduce False\n",
            "74 block4b_se_expand False\n",
            "75 block4b_se_excite False\n",
            "76 block4b_project_conv False\n",
            "77 block4b_project_bn False\n",
            "78 block4b_drop False\n",
            "79 block4b_add False\n",
            "80 block4c_expand_conv False\n",
            "81 block4c_expand_bn False\n",
            "82 block4c_expand_activation False\n",
            "83 block4c_dwconv2 False\n",
            "84 block4c_bn False\n",
            "85 block4c_activation False\n",
            "86 block4c_se_squeeze False\n",
            "87 block4c_se_reshape False\n",
            "88 block4c_se_reduce False\n",
            "89 block4c_se_expand False\n",
            "90 block4c_se_excite False\n",
            "91 block4c_project_conv False\n",
            "92 block4c_project_bn False\n",
            "93 block4c_drop False\n",
            "94 block4c_add False\n",
            "95 block4d_expand_conv False\n",
            "96 block4d_expand_bn False\n",
            "97 block4d_expand_activation False\n",
            "98 block4d_dwconv2 False\n",
            "99 block4d_bn False\n",
            "100 block4d_activation False\n",
            "101 block4d_se_squeeze False\n",
            "102 block4d_se_reshape False\n",
            "103 block4d_se_reduce False\n",
            "104 block4d_se_expand False\n",
            "105 block4d_se_excite False\n",
            "106 block4d_project_conv False\n",
            "107 block4d_project_bn False\n",
            "108 block4d_drop False\n",
            "109 block4d_add False\n",
            "110 block5a_expand_conv False\n",
            "111 block5a_expand_bn False\n",
            "112 block5a_expand_activation False\n",
            "113 block5a_dwconv2 False\n",
            "114 block5a_bn False\n",
            "115 block5a_activation False\n",
            "116 block5a_se_squeeze False\n",
            "117 block5a_se_reshape False\n",
            "118 block5a_se_reduce False\n",
            "119 block5a_se_expand False\n",
            "120 block5a_se_excite False\n",
            "121 block5a_project_conv False\n",
            "122 block5a_project_bn False\n",
            "123 block5b_expand_conv False\n",
            "124 block5b_expand_bn False\n",
            "125 block5b_expand_activation False\n",
            "126 block5b_dwconv2 False\n",
            "127 block5b_bn False\n",
            "128 block5b_activation False\n",
            "129 block5b_se_squeeze False\n",
            "130 block5b_se_reshape False\n",
            "131 block5b_se_reduce False\n",
            "132 block5b_se_expand False\n",
            "133 block5b_se_excite False\n",
            "134 block5b_project_conv False\n",
            "135 block5b_project_bn False\n",
            "136 block5b_drop False\n",
            "137 block5b_add False\n",
            "138 block5c_expand_conv False\n",
            "139 block5c_expand_bn False\n",
            "140 block5c_expand_activation False\n",
            "141 block5c_dwconv2 False\n",
            "142 block5c_bn False\n",
            "143 block5c_activation False\n",
            "144 block5c_se_squeeze False\n",
            "145 block5c_se_reshape False\n",
            "146 block5c_se_reduce False\n",
            "147 block5c_se_expand False\n",
            "148 block5c_se_excite False\n",
            "149 block5c_project_conv False\n",
            "150 block5c_project_bn False\n",
            "151 block5c_drop False\n",
            "152 block5c_add False\n",
            "153 block5d_expand_conv False\n",
            "154 block5d_expand_bn False\n",
            "155 block5d_expand_activation False\n",
            "156 block5d_dwconv2 False\n",
            "157 block5d_bn False\n",
            "158 block5d_activation False\n",
            "159 block5d_se_squeeze False\n",
            "160 block5d_se_reshape False\n",
            "161 block5d_se_reduce False\n",
            "162 block5d_se_expand False\n",
            "163 block5d_se_excite False\n",
            "164 block5d_project_conv False\n",
            "165 block5d_project_bn False\n",
            "166 block5d_drop False\n",
            "167 block5d_add False\n",
            "168 block5e_expand_conv False\n",
            "169 block5e_expand_bn False\n",
            "170 block5e_expand_activation False\n",
            "171 block5e_dwconv2 False\n",
            "172 block5e_bn False\n",
            "173 block5e_activation False\n",
            "174 block5e_se_squeeze False\n",
            "175 block5e_se_reshape False\n",
            "176 block5e_se_reduce False\n",
            "177 block5e_se_expand False\n",
            "178 block5e_se_excite False\n",
            "179 block5e_project_conv False\n",
            "180 block5e_project_bn False\n",
            "181 block5e_drop False\n",
            "182 block5e_add False\n",
            "183 block5f_expand_conv False\n",
            "184 block5f_expand_bn False\n",
            "185 block5f_expand_activation False\n",
            "186 block5f_dwconv2 False\n",
            "187 block5f_bn False\n",
            "188 block5f_activation False\n",
            "189 block5f_se_squeeze False\n",
            "190 block5f_se_reshape False\n",
            "191 block5f_se_reduce False\n",
            "192 block5f_se_expand False\n",
            "193 block5f_se_excite False\n",
            "194 block5f_project_conv False\n",
            "195 block5f_project_bn False\n",
            "196 block5f_drop False\n",
            "197 block5f_add False\n",
            "198 block6a_expand_conv False\n",
            "199 block6a_expand_bn False\n",
            "200 block6a_expand_activation False\n",
            "201 block6a_dwconv2 False\n",
            "202 block6a_bn False\n",
            "203 block6a_activation False\n",
            "204 block6a_se_squeeze False\n",
            "205 block6a_se_reshape False\n",
            "206 block6a_se_reduce False\n",
            "207 block6a_se_expand False\n",
            "208 block6a_se_excite False\n",
            "209 block6a_project_conv False\n",
            "210 block6a_project_bn False\n",
            "211 block6b_expand_conv False\n",
            "212 block6b_expand_bn False\n",
            "213 block6b_expand_activation False\n",
            "214 block6b_dwconv2 False\n",
            "215 block6b_bn False\n",
            "216 block6b_activation False\n",
            "217 block6b_se_squeeze False\n",
            "218 block6b_se_reshape False\n",
            "219 block6b_se_reduce False\n",
            "220 block6b_se_expand False\n",
            "221 block6b_se_excite False\n",
            "222 block6b_project_conv False\n",
            "223 block6b_project_bn False\n",
            "224 block6b_drop False\n",
            "225 block6b_add False\n",
            "226 block6c_expand_conv False\n",
            "227 block6c_expand_bn False\n",
            "228 block6c_expand_activation False\n",
            "229 block6c_dwconv2 False\n",
            "230 block6c_bn False\n",
            "231 block6c_activation False\n",
            "232 block6c_se_squeeze False\n",
            "233 block6c_se_reshape False\n",
            "234 block6c_se_reduce False\n",
            "235 block6c_se_expand False\n",
            "236 block6c_se_excite False\n",
            "237 block6c_project_conv False\n",
            "238 block6c_project_bn False\n",
            "239 block6c_drop False\n",
            "240 block6c_add False\n",
            "241 block6d_expand_conv False\n",
            "242 block6d_expand_bn False\n",
            "243 block6d_expand_activation False\n",
            "244 block6d_dwconv2 False\n",
            "245 block6d_bn False\n",
            "246 block6d_activation False\n",
            "247 block6d_se_squeeze False\n",
            "248 block6d_se_reshape False\n",
            "249 block6d_se_reduce False\n",
            "250 block6d_se_expand False\n",
            "251 block6d_se_excite False\n",
            "252 block6d_project_conv False\n",
            "253 block6d_project_bn False\n",
            "254 block6d_drop False\n",
            "255 block6d_add False\n",
            "256 block6e_expand_conv False\n",
            "257 block6e_expand_bn False\n",
            "258 block6e_expand_activation False\n",
            "259 block6e_dwconv2 False\n",
            "260 block6e_bn False\n",
            "261 block6e_activation False\n",
            "262 block6e_se_squeeze False\n",
            "263 block6e_se_reshape False\n",
            "264 block6e_se_reduce False\n",
            "265 block6e_se_expand False\n",
            "266 block6e_se_excite False\n",
            "267 block6e_project_conv False\n",
            "268 block6e_project_bn False\n",
            "269 block6e_drop False\n",
            "270 block6e_add False\n",
            "271 block6f_expand_conv False\n",
            "272 block6f_expand_bn False\n",
            "273 block6f_expand_activation False\n",
            "274 block6f_dwconv2 False\n",
            "275 block6f_bn False\n",
            "276 block6f_activation False\n",
            "277 block6f_se_squeeze False\n",
            "278 block6f_se_reshape False\n",
            "279 block6f_se_reduce False\n",
            "280 block6f_se_expand False\n",
            "281 block6f_se_excite False\n",
            "282 block6f_project_conv False\n",
            "283 block6f_project_bn False\n",
            "284 block6f_drop False\n",
            "285 block6f_add False\n",
            "286 block6g_expand_conv False\n",
            "287 block6g_expand_bn False\n",
            "288 block6g_expand_activation False\n",
            "289 block6g_dwconv2 False\n",
            "290 block6g_bn False\n",
            "291 block6g_activation False\n",
            "292 block6g_se_squeeze False\n",
            "293 block6g_se_reshape False\n",
            "294 block6g_se_reduce False\n",
            "295 block6g_se_expand False\n",
            "296 block6g_se_excite False\n",
            "297 block6g_project_conv False\n",
            "298 block6g_project_bn False\n",
            "299 block6g_drop False\n",
            "300 block6g_add False\n",
            "301 block6h_expand_conv False\n",
            "302 block6h_expand_bn False\n",
            "303 block6h_expand_activation False\n",
            "304 block6h_dwconv2 False\n",
            "305 block6h_bn False\n",
            "306 block6h_activation False\n",
            "307 block6h_se_squeeze False\n",
            "308 block6h_se_reshape False\n",
            "309 block6h_se_reduce False\n",
            "310 block6h_se_expand False\n",
            "311 block6h_se_excite False\n",
            "312 block6h_project_conv False\n",
            "313 block6h_project_bn False\n",
            "314 block6h_drop False\n",
            "315 block6h_add False\n",
            "316 block6i_expand_conv False\n",
            "317 block6i_expand_bn False\n",
            "318 block6i_expand_activation False\n",
            "319 block6i_dwconv2 False\n",
            "320 block6i_bn False\n",
            "321 block6i_activation False\n",
            "322 block6i_se_squeeze False\n",
            "323 block6i_se_reshape False\n",
            "324 block6i_se_reduce False\n",
            "325 block6i_se_expand False\n",
            "326 block6i_se_excite False\n",
            "327 block6i_project_conv False\n",
            "328 block6i_project_bn False\n",
            "329 block6i_drop False\n",
            "330 block6i_add False\n",
            "331 block6j_expand_conv False\n",
            "332 block6j_expand_bn False\n",
            "333 block6j_expand_activation False\n",
            "334 block6j_dwconv2 False\n",
            "335 block6j_bn False\n",
            "336 block6j_activation False\n",
            "337 block6j_se_squeeze False\n",
            "338 block6j_se_reshape False\n",
            "339 block6j_se_reduce False\n",
            "340 block6j_se_expand False\n",
            "341 block6j_se_excite False\n",
            "342 block6j_project_conv False\n",
            "343 block6j_project_bn False\n",
            "344 block6j_drop False\n",
            "345 block6j_add False\n",
            "346 top_conv False\n",
            "347 top_bn False\n",
            "348 top_activation False\n",
            "349 avg_pool False\n"
          ]
        }
      ],
      "source": [
        "for i, layer in enumerate(model.get_layer('efficientnetv2-b2').layers):\n",
        "   print(i, layer.name, layer.trainable)"
      ]
    },
    {
      "cell_type": "code",
      "execution_count": null,
      "metadata": {
        "id": "FxW3TKsmtK-n"
      },
      "outputs": [],
      "source": [
        "# Set all MobileNetV2 layers as trainable\n",
        "model.get_layer('efficientnetv2-b2').trainable = True\n",
        "for i, layer in enumerate(model.get_layer('efficientnetv2-b2').layers):\n",
        "   print(i, layer.name, layer.trainable)"
      ]
    },
    {
      "cell_type": "code",
      "execution_count": null,
      "metadata": {
        "id": "W71IlknptK-n"
      },
      "outputs": [],
      "source": [
        "end_freeze = 198\n",
        "\n",
        "for i, layer in enumerate(model.get_layer('efficientnetv2-b2').layers[:end_freeze]):\n",
        "  layer.trainable=False\n",
        "\n",
        "for i, layer in enumerate(model.get_layer('efficientnetv2-b2').layers):\n",
        "   if isinstance(layer, tfkl.BatchNormalization):\n",
        "     layer.trainable = False\n",
        "   print(i, layer.name, layer.trainable)\n",
        "model.summary()"
      ]
    },
    {
      "cell_type": "code",
      "execution_count": null,
      "metadata": {
        "id": "R1WBYG-7tK-n"
      },
      "outputs": [],
      "source": [
        "# Compile the model\n",
        "model.compile(loss=tfk.losses.BinaryCrossentropy(), optimizer=tfk.optimizers.Adam(1e-5), metrics='accuracy')"
      ]
    },
    {
      "cell_type": "code",
      "execution_count": null,
      "metadata": {
        "id": "a47YMNw5tK-n"
      },
      "outputs": [],
      "source": [
        "history = model.fit(\n",
        "    x = preprocess_input(X_train),\n",
        "    y = y_train,\n",
        "    batch_size = 32,\n",
        "    epochs = 200,\n",
        "    validation_data = (preprocess_input(X_val), y_val),\n",
        "    callbacks = [tfk.callbacks.EarlyStopping(monitor='val_accuracy', mode='max', patience=20, restore_best_weights=True)]\n",
        ").history"
      ]
    },
    {
      "cell_type": "code",
      "execution_count": null,
      "metadata": {
        "id": "Y5jQJAEQtK-o"
      },
      "outputs": [],
      "source": [
        "save_model(model, 'Fine_tuning_checkpoint')"
      ]
    },
    {
      "cell_type": "code",
      "execution_count": null,
      "metadata": {
        "id": "3fqBx2cbliDE"
      },
      "outputs": [],
      "source": [
        "plot_confusion_matrix(model=model, X_test=X_test, y_test=y_test, labels=(\"Healthy\", \"Unhealthy\"))"
      ]
    }
  ],
  "metadata": {
    "accelerator": "GPU",
    "colab": {
      "provenance": []
    },
    "kernelspec": {
      "display_name": "Python 3",
      "name": "python3"
    },
    "language_info": {
      "codemirror_mode": {
        "name": "ipython",
        "version": 3
      },
      "file_extension": ".py",
      "mimetype": "text/x-python",
      "name": "python",
      "nbconvert_exporter": "python",
      "pygments_lexer": "ipython3",
      "version": "3.10.12"
    }
  },
  "nbformat": 4,
  "nbformat_minor": 0
}